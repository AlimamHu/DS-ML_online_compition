{
  "cells": [
    {
      "cell_type": "code",
      "execution_count": null,
      "metadata": {
        "colab": {
          "base_uri": "https://localhost:8080/"
        },
        "id": "3HjKgVQIveX7",
        "outputId": "2b2497cb-aa26-4b6a-f947-4181c0609b23"
      },
      "outputs": [
        {
          "name": "stdout",
          "output_type": "stream",
          "text": [
            "Drive already mounted at /content/drive; to attempt to forcibly remount, call drive.mount(\"/content/drive\", force_remount=True).\n"
          ]
        }
      ],
      "source": [
        "from google.colab import drive\n",
        "drive.mount('/content/drive')"
      ]
    },
    {
      "cell_type": "code",
      "execution_count": null,
      "metadata": {
        "colab": {
          "base_uri": "https://localhost:8080/"
        },
        "id": "oQLJ0rGZ9UKp",
        "outputId": "944d0cc2-0d16-4638-e0ec-1687cb8cf7d1"
      },
      "outputs": [
        {
          "name": "stdout",
          "output_type": "stream",
          "text": [
            "/content/drive/MyDrive/Colab Notebooks/job a thone\n"
          ]
        }
      ],
      "source": [
        "cd /content/drive/MyDrive/Colab\\ Notebooks/'job a thone'/"
      ]
    },
    {
      "cell_type": "code",
      "execution_count": null,
      "metadata": {
        "id": "sQn5KmuM9shU"
      },
      "outputs": [],
      "source": [
        "import pandas as pd\n",
        "import numpy as np\n",
        "from matplotlib import pyplot as plt\n",
        "import seaborn as sns\n",
        "from sklearn.gaussian_process.kernels import DotProduct, WhiteKernel\n",
        "from sklearn.gaussian_process import GaussianProcessRegressor\n",
        "from sklearn.linear_model import LinearRegression\n",
        "from sklearn.metrics import mean_squared_error"
      ]
    },
    {
      "cell_type": "code",
      "execution_count": null,
      "metadata": {
        "id": "qQ8b3ZzP9wOD"
      },
      "outputs": [],
      "source": [
        "sample_df=pd.read_csv('sample_4E0BhPN.csv')\n",
        "test_df=pd.read_csv('test_6QvDdzb.csv')\n",
        "train_df=pd.read_csv('train_E1GspfA.csv')"
      ]
    },
    {
      "cell_type": "code",
      "execution_count": null,
      "metadata": {
        "colab": {
          "base_uri": "https://localhost:8080/"
        },
        "id": "R8Zs7GQn-3d3",
        "outputId": "207796ee-760c-4453-ac22-5d70b3407770"
      },
      "outputs": [
        {
          "name": "stdout",
          "output_type": "stream",
          "text": [
            "<class 'pandas.core.frame.DataFrame'>\n",
            "RangeIndex: 18247 entries, 0 to 18246\n",
            "Data columns (total 3 columns):\n",
            " #   Column  Non-Null Count  Dtype \n",
            "---  ------  --------------  ----- \n",
            " 0   date    18247 non-null  object\n",
            " 1   hour    18247 non-null  int64 \n",
            " 2   demand  18247 non-null  int64 \n",
            "dtypes: int64(2), object(1)\n",
            "memory usage: 427.8+ KB\n"
          ]
        }
      ],
      "source": [
        "train_df.info()"
      ]
    },
    {
      "cell_type": "markdown",
      "metadata": {
        "id": "vAwLXaLo4zFT"
      },
      "source": [
        "# Feature Engineering"
      ]
    },
    {
      "cell_type": "code",
      "execution_count": null,
      "metadata": {
        "id": "9HH88a5Wv3eb"
      },
      "outputs": [],
      "source": [
        "def data_enginerring(x_t):\n",
        "    x_t=x_t.copy()\n",
        "    x_t[\"date\"]=pd.to_datetime(x_t['date'])\n",
        "    x_t['year']=x_t[\"date\"].dt.year\n",
        "    x_t['month']=x_t[\"date\"].dt.month\n",
        "    x_t['week']=x_t[\"date\"].dt.week\n",
        "    x_t['day']=x_t[\"date\"].dt.day\n",
        "    return x_t\n",
        "    \n"
      ]
    },
    {
      "cell_type": "code",
      "execution_count": null,
      "metadata": {
        "colab": {
          "base_uri": "https://localhost:8080/"
        },
        "id": "eu0oUYAJG-mW",
        "outputId": "d71709a6-dcff-4bf5-a976-f6fc014ad0b2"
      },
      "outputs": [
        {
          "name": "stderr",
          "output_type": "stream",
          "text": [
            "/usr/local/lib/python3.7/dist-packages/ipykernel_launcher.py:6: FutureWarning: Series.dt.weekofyear and Series.dt.week have been deprecated.  Please use Series.dt.isocalendar().week instead.\n",
            "  \n"
          ]
        }
      ],
      "source": [
        "train_df=data_enginerring(train_df)"
      ]
    },
    {
      "cell_type": "code",
      "execution_count": null,
      "metadata": {
        "colab": {
          "base_uri": "https://localhost:8080/",
          "height": 175
        },
        "id": "X4kA9sWawjg_",
        "outputId": "66af75fe-c653-46ef-dbdf-223b62c5cdb0"
      },
      "outputs": [
        {
          "data": {
            "text/html": [
              "\n",
              "  <div id=\"df-f729c5da-cf74-48d6-87dd-2b8ea76385af\">\n",
              "    <div class=\"colab-df-container\">\n",
              "      <div>\n",
              "<style scoped>\n",
              "    .dataframe tbody tr th:only-of-type {\n",
              "        vertical-align: middle;\n",
              "    }\n",
              "\n",
              "    .dataframe tbody tr th {\n",
              "        vertical-align: top;\n",
              "    }\n",
              "\n",
              "    .dataframe thead th {\n",
              "        text-align: right;\n",
              "    }\n",
              "</style>\n",
              "<table border=\"1\" class=\"dataframe\">\n",
              "  <thead>\n",
              "    <tr style=\"text-align: right;\">\n",
              "      <th></th>\n",
              "      <th>date</th>\n",
              "      <th>hour</th>\n",
              "      <th>demand</th>\n",
              "      <th>year</th>\n",
              "      <th>month</th>\n",
              "      <th>week</th>\n",
              "      <th>day</th>\n",
              "    </tr>\n",
              "  </thead>\n",
              "  <tbody>\n",
              "    <tr>\n",
              "      <th>0</th>\n",
              "      <td>2018-08-18</td>\n",
              "      <td>9</td>\n",
              "      <td>91</td>\n",
              "      <td>2018</td>\n",
              "      <td>8</td>\n",
              "      <td>33</td>\n",
              "      <td>18</td>\n",
              "    </tr>\n",
              "    <tr>\n",
              "      <th>1</th>\n",
              "      <td>2018-08-18</td>\n",
              "      <td>10</td>\n",
              "      <td>21</td>\n",
              "      <td>2018</td>\n",
              "      <td>8</td>\n",
              "      <td>33</td>\n",
              "      <td>18</td>\n",
              "    </tr>\n",
              "    <tr>\n",
              "      <th>2</th>\n",
              "      <td>2018-08-18</td>\n",
              "      <td>13</td>\n",
              "      <td>23</td>\n",
              "      <td>2018</td>\n",
              "      <td>8</td>\n",
              "      <td>33</td>\n",
              "      <td>18</td>\n",
              "    </tr>\n",
              "    <tr>\n",
              "      <th>3</th>\n",
              "      <td>2018-08-18</td>\n",
              "      <td>14</td>\n",
              "      <td>104</td>\n",
              "      <td>2018</td>\n",
              "      <td>8</td>\n",
              "      <td>33</td>\n",
              "      <td>18</td>\n",
              "    </tr>\n",
              "  </tbody>\n",
              "</table>\n",
              "</div>\n",
              "      <button class=\"colab-df-convert\" onclick=\"convertToInteractive('df-f729c5da-cf74-48d6-87dd-2b8ea76385af')\"\n",
              "              title=\"Convert this dataframe to an interactive table.\"\n",
              "              style=\"display:none;\">\n",
              "        \n",
              "  <svg xmlns=\"http://www.w3.org/2000/svg\" height=\"24px\"viewBox=\"0 0 24 24\"\n",
              "       width=\"24px\">\n",
              "    <path d=\"M0 0h24v24H0V0z\" fill=\"none\"/>\n",
              "    <path d=\"M18.56 5.44l.94 2.06.94-2.06 2.06-.94-2.06-.94-.94-2.06-.94 2.06-2.06.94zm-11 1L8.5 8.5l.94-2.06 2.06-.94-2.06-.94L8.5 2.5l-.94 2.06-2.06.94zm10 10l.94 2.06.94-2.06 2.06-.94-2.06-.94-.94-2.06-.94 2.06-2.06.94z\"/><path d=\"M17.41 7.96l-1.37-1.37c-.4-.4-.92-.59-1.43-.59-.52 0-1.04.2-1.43.59L10.3 9.45l-7.72 7.72c-.78.78-.78 2.05 0 2.83L4 21.41c.39.39.9.59 1.41.59.51 0 1.02-.2 1.41-.59l7.78-7.78 2.81-2.81c.8-.78.8-2.07 0-2.86zM5.41 20L4 18.59l7.72-7.72 1.47 1.35L5.41 20z\"/>\n",
              "  </svg>\n",
              "      </button>\n",
              "      \n",
              "  <style>\n",
              "    .colab-df-container {\n",
              "      display:flex;\n",
              "      flex-wrap:wrap;\n",
              "      gap: 12px;\n",
              "    }\n",
              "\n",
              "    .colab-df-convert {\n",
              "      background-color: #E8F0FE;\n",
              "      border: none;\n",
              "      border-radius: 50%;\n",
              "      cursor: pointer;\n",
              "      display: none;\n",
              "      fill: #1967D2;\n",
              "      height: 32px;\n",
              "      padding: 0 0 0 0;\n",
              "      width: 32px;\n",
              "    }\n",
              "\n",
              "    .colab-df-convert:hover {\n",
              "      background-color: #E2EBFA;\n",
              "      box-shadow: 0px 1px 2px rgba(60, 64, 67, 0.3), 0px 1px 3px 1px rgba(60, 64, 67, 0.15);\n",
              "      fill: #174EA6;\n",
              "    }\n",
              "\n",
              "    [theme=dark] .colab-df-convert {\n",
              "      background-color: #3B4455;\n",
              "      fill: #D2E3FC;\n",
              "    }\n",
              "\n",
              "    [theme=dark] .colab-df-convert:hover {\n",
              "      background-color: #434B5C;\n",
              "      box-shadow: 0px 1px 3px 1px rgba(0, 0, 0, 0.15);\n",
              "      filter: drop-shadow(0px 1px 2px rgba(0, 0, 0, 0.3));\n",
              "      fill: #FFFFFF;\n",
              "    }\n",
              "  </style>\n",
              "\n",
              "      <script>\n",
              "        const buttonEl =\n",
              "          document.querySelector('#df-f729c5da-cf74-48d6-87dd-2b8ea76385af button.colab-df-convert');\n",
              "        buttonEl.style.display =\n",
              "          google.colab.kernel.accessAllowed ? 'block' : 'none';\n",
              "\n",
              "        async function convertToInteractive(key) {\n",
              "          const element = document.querySelector('#df-f729c5da-cf74-48d6-87dd-2b8ea76385af');\n",
              "          const dataTable =\n",
              "            await google.colab.kernel.invokeFunction('convertToInteractive',\n",
              "                                                     [key], {});\n",
              "          if (!dataTable) return;\n",
              "\n",
              "          const docLinkHtml = 'Like what you see? Visit the ' +\n",
              "            '<a target=\"_blank\" href=https://colab.research.google.com/notebooks/data_table.ipynb>data table notebook</a>'\n",
              "            + ' to learn more about interactive tables.';\n",
              "          element.innerHTML = '';\n",
              "          dataTable['output_type'] = 'display_data';\n",
              "          await google.colab.output.renderOutput(dataTable, element);\n",
              "          const docLink = document.createElement('div');\n",
              "          docLink.innerHTML = docLinkHtml;\n",
              "          element.appendChild(docLink);\n",
              "        }\n",
              "      </script>\n",
              "    </div>\n",
              "  </div>\n",
              "  "
            ],
            "text/plain": [
              "        date  hour  demand  year  month  week  day\n",
              "0 2018-08-18     9      91  2018      8    33   18\n",
              "1 2018-08-18    10      21  2018      8    33   18\n",
              "2 2018-08-18    13      23  2018      8    33   18\n",
              "3 2018-08-18    14     104  2018      8    33   18"
            ]
          },
          "execution_count": 8,
          "metadata": {},
          "output_type": "execute_result"
        }
      ],
      "source": [
        "train_df.head(4)"
      ]
    },
    {
      "cell_type": "code",
      "source": [
        "from sklearn.preprocessing import PolynomialFeatures\n",
        "poly=PolynomialFeatures(2)\n",
        "poly.fit_transform(X)\n"
      ],
      "metadata": {
        "colab": {
          "base_uri": "https://localhost:8080/"
        },
        "id": "Jm56c8S8Jc6E",
        "outputId": "29cfe2b7-bc23-489c-ee50-b1f011f3c1d6"
      },
      "execution_count": null,
      "outputs": [
        {
          "output_type": "execute_result",
          "data": {
            "text/plain": [
              "array([[1.000e+00, 9.000e+00, 2.018e+03, ..., 1.089e+03, 5.940e+02,\n",
              "        3.240e+02],\n",
              "       [1.000e+00, 1.000e+01, 2.018e+03, ..., 1.089e+03, 5.940e+02,\n",
              "        3.240e+02],\n",
              "       [1.000e+00, 1.300e+01, 2.018e+03, ..., 1.089e+03, 5.940e+02,\n",
              "        3.240e+02],\n",
              "       ...,\n",
              "       [1.000e+00, 2.100e+01, 2.021e+03, ..., 6.400e+01, 2.240e+02,\n",
              "        7.840e+02],\n",
              "       [1.000e+00, 2.200e+01, 2.021e+03, ..., 6.400e+01, 2.240e+02,\n",
              "        7.840e+02],\n",
              "       [1.000e+00, 2.300e+01, 2.021e+03, ..., 6.400e+01, 2.240e+02,\n",
              "        7.840e+02]])"
            ]
          },
          "metadata": {},
          "execution_count": 76
        }
      ]
    },
    {
      "cell_type": "markdown",
      "metadata": {
        "id": "a_6FP91y5OzW"
      },
      "source": [
        "# Checking null values"
      ]
    },
    {
      "cell_type": "code",
      "execution_count": null,
      "metadata": {
        "colab": {
          "base_uri": "https://localhost:8080/"
        },
        "id": "5PoC-Y8DBnh4",
        "outputId": "821255c8-6ed8-4c6a-b275-c2b2258b969f"
      },
      "outputs": [
        {
          "data": {
            "text/plain": [
              "date      0\n",
              "hour      0\n",
              "demand    0\n",
              "year      0\n",
              "month     0\n",
              "week      0\n",
              "day       0\n",
              "dtype: int64"
            ]
          },
          "execution_count": 9,
          "metadata": {},
          "output_type": "execute_result"
        }
      ],
      "source": [
        "train_df.isnull().sum()"
      ]
    },
    {
      "cell_type": "code",
      "execution_count": null,
      "metadata": {
        "colab": {
          "base_uri": "https://localhost:8080/"
        },
        "id": "_41m42ldCJE-",
        "outputId": "19c28527-da46-4381-f384-a67db140d2d4"
      },
      "outputs": [
        {
          "data": {
            "text/plain": [
              "0"
            ]
          },
          "execution_count": 10,
          "metadata": {},
          "output_type": "execute_result"
        }
      ],
      "source": [
        "train_df.duplicated().sum()"
      ]
    },
    {
      "cell_type": "markdown",
      "metadata": {
        "id": "qxq9WQzC6Aa8"
      },
      "source": [
        "# data splite into train test"
      ]
    },
    {
      "cell_type": "code",
      "execution_count": null,
      "metadata": {
        "id": "E-4Wngqa6BLG"
      },
      "outputs": [],
      "source": [
        "X=train_df[['hour', 'year', 'month', 'week', 'day']]\n",
        "y=train_df['demand']\n",
        "from sklearn.model_selection import train_test_split\n",
        "\n",
        "X_train, X_test, y_train, y_test = train_test_split(\n",
        "    X, y, test_size=0.20, random_state=42)\n"
      ]
    },
    {
      "cell_type": "code",
      "execution_count": null,
      "metadata": {
        "colab": {
          "base_uri": "https://localhost:8080/",
          "height": 286
        },
        "id": "CRWZxTzF_Yy5",
        "outputId": "ce995391-5879-4188-c5da-c2db356676d5"
      },
      "outputs": [
        {
          "data": {
            "text/plain": [
              "<matplotlib.axes._subplots.AxesSubplot at 0x7fa26a694690>"
            ]
          },
          "execution_count": 38,
          "metadata": {},
          "output_type": "execute_result"
        },
        {
          "data": {
            "image/png": "[encoded data removed]",
            "text/plain": [
              "<Figure size 432x288 with 2 Axes>"
            ]
          },
          "metadata": {},
          "output_type": "display_data"
        }
      ],
      "source": [
        "sns.heatmap(train_df.corr(),annot=True)\n",
        "plt.show()"
      ]
    },
    {
      "cell_type": "markdown",
      "metadata": {
        "id": "wfsLT8tB-hYe"
      },
      "source": [
        "# RMSE score"
      ]
    },
    {
      "cell_type": "code",
      "execution_count": null,
      "metadata": {
        "id": "B-ZG7XOb-HzD"
      },
      "outputs": [],
      "source": [
        "\n",
        "model=LinearRegression(positive=True,normalize=True)"
      ]
    },
    {
      "cell_type": "code",
      "execution_count": null,
      "metadata": {
        "colab": {
          "base_uri": "https://localhost:8080/"
        },
        "id": "svliem9xzr7G",
        "outputId": "7631e3ab-981e-4748-c388-13626703cdc4"
      },
      "outputs": [
        {
          "name": "stdout",
          "output_type": "stream",
          "text": [
            "train score :,0.03422980088364669\n",
            "test  score :,0.029603952708668668\n"
          ]
        },
        {
          "name": "stderr",
          "output_type": "stream",
          "text": [
            "/usr/local/lib/python3.7/dist-packages/sklearn/linear_model/_base.py:145: FutureWarning: 'normalize' was deprecated in version 1.0 and will be removed in 1.2.\n",
            "If you wish to scale the data, use Pipeline with a StandardScaler in a preprocessing stage. To reproduce the previous behavior:\n",
            "\n",
            "from sklearn.pipeline import make_pipeline\n",
            "\n",
            "model = make_pipeline(StandardScaler(with_mean=False), LinearRegression())\n",
            "\n",
            "If you wish to pass a sample_weight parameter, you need to pass it as a fit parameter to each step of the pipeline as follows:\n",
            "\n",
            "kwargs = {s[0] + '__sample_weight': sample_weight for s in model.steps}\n",
            "model.fit(X, y, **kwargs)\n",
            "\n",
            "\n",
            "  FutureWarning,\n"
          ]
        },
        {
          "data": {
            "text/plain": [
              "40.19918813975357"
            ]
          },
          "execution_count": 56,
          "metadata": {},
          "output_type": "execute_result"
        }
      ],
      "source": [
        "model.fit(X_train,y_train)\n",
        "print(f'train score :,{model.score(X_train,y_train)}')\n",
        "pridict_y=model.predict(X_test)\n",
        "print(f'test  score :,{model.score(X_test,y_test)}')\n",
        "(mean_squared_error(y_test,pridict_y,squared=False))"
      ]
    },
    {
      "cell_type": "code",
      "execution_count": null,
      "metadata": {
        "colab": {
          "base_uri": "https://localhost:8080/"
        },
        "id": "8M-jAbYkXo9e",
        "outputId": "2a725d17-11a2-4fd7-9329-7034053e8058"
      },
      "outputs": [
        {
          "name": "stdout",
          "output_type": "stream",
          "text": [
            "[1.07483765 4.43771883 0.8992464  0.         0.        ]\n",
            "-8907.085201347398\n"
          ]
        }
      ],
      "source": [
        "print(f'{model.coef_}')\n",
        "print(f'{model.intercept_}')"
      ]
    },
    {
      "cell_type": "markdown",
      "metadata": {
        "id": "N84-SaUZXLZN"
      },
      "source": [
        "# cross validation score"
      ]
    },
    {
      "cell_type": "code",
      "execution_count": null,
      "metadata": {
        "colab": {
          "base_uri": "https://localhost:8080/"
        },
        "id": "4cvFHkHe5fTV",
        "outputId": "b0e954db-ad13-4e54-c078-357ae74a2eeb"
      },
      "outputs": [
        {
          "data": {
            "text/plain": [
              "array([-42.20048654, -41.27458512, -38.71008377, -41.51750847,\n",
              "       -42.09400641])"
            ]
          },
          "execution_count": 54,
          "metadata": {},
          "output_type": "execute_result"
        }
      ],
      "source": [
        "from sklearn.model_selection import cross_val_score\n",
        "\n",
        "cross_val_score(model, X_train,y_train, cv=5,scoring=('neg_root_mean_squared_error'),)"
      ]
    },
    {
      "cell_type": "code",
      "execution_count": null,
      "metadata": {
        "id": "S-Nbe4Kg6pbx"
      },
      "outputs": [],
      "source": [
        "model.predict()"
      ]
    },
    {
      "cell_type": "markdown",
      "metadata": {
        "id": "Adw-e1TD--ln"
      },
      "source": [
        "# dession"
      ]
    },
    {
      "cell_type": "code",
      "execution_count": null,
      "metadata": {
        "id": "CnYsgMai0NHO"
      },
      "outputs": [],
      "source": [
        "from sklearn.tree import DecisionTreeRegressor"
      ]
    },
    {
      "cell_type": "code",
      "execution_count": null,
      "metadata": {
        "id": "RXU4pr3E_Lbc"
      },
      "outputs": [],
      "source": [
        ""
      ]
    },
    {
      "cell_type": "code",
      "execution_count": null,
      "metadata": {
        "colab": {
          "base_uri": "https://localhost:8080/"
        },
        "id": "DaUJSj-F25Sv",
        "outputId": "639105a4-7918-4001-d6d7-50feaa82e920"
      },
      "outputs": [
        {
          "name": "stdout",
          "output_type": "stream",
          "text": [
            "train score :,1.0\n",
            "train RMSE:  0.0\n",
            "test RMSE: 45.08697227019298\n"
          ]
        }
      ],
      "source": [
        "model_dec=DecisionTreeRegressor() #random_state=50,ccp_alpha=0.001\n",
        "model_dec.fit(X_train,y_train)\n",
        "print(f'train score :,{model_dec.score(X_train,y_train)}\\ntrain RMSE:  {mean_squared_error(y_train,model_dec.predict(X_train),squared=False)}')\n",
        "pridict_y=model_dec.predict(X_test)\n",
        "print(f'test RMSE: {mean_squared_error(y_test,pridict_y,squared=False)}')"
      ]
    },
    {
      "cell_type": "code",
      "execution_count": null,
      "metadata": {
        "id": "T1BcNP7Da93W"
      },
      "outputs": [],
      "source": [
        ""
      ]
    },
    {
      "cell_type": "code",
      "execution_count": null,
      "metadata": {
        "id": "OBcOmbx_ZHz0"
      },
      "outputs": [],
      "source": [
        ""
      ]
    },
    {
      "cell_type": "markdown",
      "metadata": {
        "id": "9GHaYDM0rjGK"
      },
      "source": [
        "## Randomforest"
      ]
    },
    {
      "cell_type": "code",
      "execution_count": null,
      "metadata": {
        "id": "5b81oXb3r2ZC"
      },
      "outputs": [],
      "source": [
        "from sklearn.ensemble import RandomForestRegressor\n",
        "\n",
        "regr = RandomForestRegressor(n_estimators=800,random_state=30,ccp_alpha=0.01)"
      ]
    },
    {
      "cell_type": "code",
      "execution_count": null,
      "metadata": {
        "colab": {
          "base_uri": "https://localhost:8080/"
        },
        "id": "8DOIKeLnZJiH",
        "outputId": "80697fe4-7354-450a-cac3-3420a253640d"
      },
      "outputs": [
        {
          "name": "stdout",
          "output_type": "stream",
          "text": [
            "train RMSE: 12.756374838357406\n",
            "test RMSE: 33.77614250251483\n"
          ]
        }
      ],
      "source": [
        "\n",
        "\n",
        "regr.fit(X_train, y_train)\n",
        "print(f'train RMSE: {mean_squared_error(y_train,regr.predict(X_train),squared=False)}')\n",
        "print(f'test RMSE: {mean_squared_error(y_test,regr.predict(X_test),squared=False)}')\n",
        "\n"
      ]
    },
    {
      "cell_type": "code",
      "execution_count": null,
      "metadata": {
        "colab": {
          "base_uri": "https://localhost:8080/"
        },
        "id": "LfNGH_wDr42g",
        "outputId": "f824c6ef-bdad-4870-b271-d0a69afb73c5"
      },
      "outputs": [
        {
          "data": {
            "text/plain": [
              "{'bootstrap': True,\n",
              " 'ccp_alpha': 0.01,\n",
              " 'criterion': 'squared_error',\n",
              " 'max_depth': None,\n",
              " 'max_features': 'auto',\n",
              " 'max_leaf_nodes': None,\n",
              " 'max_samples': None,\n",
              " 'min_impurity_decrease': 0.0,\n",
              " 'min_samples_leaf': 1,\n",
              " 'min_samples_split': 2,\n",
              " 'min_weight_fraction_leaf': 0.0,\n",
              " 'n_estimators': 800,\n",
              " 'n_jobs': None,\n",
              " 'oob_score': False,\n",
              " 'random_state': 30,\n",
              " 'verbose': 0,\n",
              " 'warm_start': False}"
            ]
          },
          "execution_count": 14,
          "metadata": {},
          "output_type": "execute_result"
        }
      ],
      "source": [
        "regr.get_params()"
      ]
    },
    {
      "cell_type": "code",
      "execution_count": null,
      "metadata": {
        "id": "1G3RJd-rtlsY"
      },
      "outputs": [],
      "source": [
        "from sklearn.model_selection import RandomizedSearchCV# Number of trees in random forest\n",
        "n_estimators = [int(x) for x in np.linspace(start = 200, stop = 2000, num = 10)]\n",
        "# Number of features to consider at every split\n",
        "max_features = ['auto', 'sqrt']\n",
        "# Maximum number of levels in tree\n",
        "max_depth = [int(x) for x in np.linspace(10, 110, num = 11)]\n",
        "max_depth.append(None)\n",
        "# Minimum number of samples required to split a node\n",
        "min_samples_split = [2, 5, 10]\n",
        "# Minimum number of samples required at each leaf node\n",
        "min_samples_leaf = [1, 2, 4]\n",
        "# Method of selecting samples for training each tree\n",
        "bootstrap = [True, False]# Create the random grid\n",
        "random_grid = {'n_estimators': n_estimators,\n",
        "               'max_features': max_features,\n",
        "               'max_depth': max_depth,\n",
        "               'min_samples_split': min_samples_split,\n",
        "               'min_samples_leaf': min_samples_leaf,\n",
        "               'bootstrap': bootstrap}"
      ]
    },
    {
      "cell_type": "code",
      "execution_count": null,
      "metadata": {
        "colab": {
          "base_uri": "https://localhost:8080/"
        },
        "id": "K5GsCDU9t-q0",
        "outputId": "dcf56adf-d5fc-4315-dd34-1ebafcd33a86"
      },
      "outputs": [
        {
          "data": {
            "text/plain": [
              "{'bootstrap': [True, False],\n",
              " 'max_depth': [10, 20, 30, 40, 50, 60, 70, 80, 90, 100, 110, None],\n",
              " 'max_features': ['auto', 'sqrt'],\n",
              " 'min_samples_leaf': [1, 2, 4],\n",
              " 'min_samples_split': [2, 5, 10],\n",
              " 'n_estimators': [200, 400, 600, 800, 1000, 1200, 1400, 1600, 1800, 2000]}"
            ]
          },
          "execution_count": 16,
          "metadata": {},
          "output_type": "execute_result"
        }
      ],
      "source": [
        "random_grid"
      ]
    },
    {
      "cell_type": "code",
      "execution_count": null,
      "metadata": {
        "id": "eU0JPZrbuOSF"
      },
      "outputs": [],
      "source": [
        "rf=RandomForestRegressor()\n",
        "rf_random = RandomizedSearchCV(estimator = rf, param_distributions = random_grid, n_iter = 100, cv = 3, verbose=2, random_state=42, n_jobs = -1)"
      ]
    },
    {
      "cell_type": "code",
      "execution_count": null,
      "metadata": {
        "colab": {
          "background_save": true,
          "base_uri": "https://localhost:8080/"
        },
        "id": "yV6HNaCgufl-",
        "outputId": "c108c77e-f460-4ca5-f9d0-4b19a6b225a9"
      },
      "outputs": [
        {
          "name": "stdout",
          "output_type": "stream",
          "text": [
            "Fitting 3 folds for each of 100 candidates, totalling 300 fits\n"
          ]
        },
        {
          "name": "stderr",
          "output_type": "stream",
          "text": [
            "/usr/local/lib/python3.7/dist-packages/joblib/externals/loky/process_executor.py:705: UserWarning: A worker stopped while some jobs were given to the executor. This can be caused by a too short worker timeout or by a memory leak.\n",
            "  \"timeout or by a memory leak.\", UserWarning\n"
          ]
        },
        {
          "data": {
            "text/plain": [
              "RandomizedSearchCV(cv=3, estimator=RandomForestRegressor(), n_iter=100,\n",
              "                   n_jobs=-1,\n",
              "                   param_distributions={'bootstrap': [True, False],\n",
              "                                        'max_depth': [10, 20, 30, 40, 50, 60,\n",
              "                                                      70, 80, 90, 100, 110,\n",
              "                                                      None],\n",
              "                                        'max_features': ['auto', 'sqrt'],\n",
              "                                        'min_samples_leaf': [1, 2, 4],\n",
              "                                        'min_samples_split': [2, 5, 10],\n",
              "                                        'n_estimators': [200, 400, 600, 800,\n",
              "                                                         1000, 1200, 1400, 1600,\n",
              "                                                         1800, 2000]},\n",
              "                   random_state=42, verbose=2)"
            ]
          },
          "execution_count": null,
          "metadata": {},
          "output_type": "execute_result"
        }
      ],
      "source": [
        "rf_random.fit(X_train, y_train)"
      ]
    },
    {
      "cell_type": "code",
      "execution_count": null,
      "metadata": {
        "colab": {
          "background_save": true
        },
        "id": "uQsu_Lbxu49U",
        "outputId": "8fe0eaee-fa91-4c1c-831f-54a1fa632857"
      },
      "outputs": [
        {
          "data": {
            "text/plain": [
              "{'bootstrap': True,\n",
              " 'max_depth': 20,\n",
              " 'max_features': 'sqrt',\n",
              " 'min_samples_leaf': 1,\n",
              " 'min_samples_split': 10,\n",
              " 'n_estimators': 1600}"
            ]
          },
          "execution_count": null,
          "metadata": {},
          "output_type": "execute_result"
        }
      ],
      "source": [
        "rf_random.best_params_"
      ]
    },
    {
      "cell_type": "code",
      "source": [
        "regr = RandomForestRegressor(**{'bootstrap': True,\n",
        "                                'ccp_alpha': 0.001,\n",
        " 'max_depth': 20,\n",
        " 'max_features': 'sqrt',\n",
        " 'min_samples_leaf': 1,\n",
        " 'min_samples_split': 10,\n",
        " 'n_estimators': 800,\n",
        " 'random_state':30})"
      ],
      "metadata": {
        "id": "s1kOHwq_D6uT"
      },
      "execution_count": null,
      "outputs": []
    },
    {
      "cell_type": "code",
      "source": [
        "regr.fit(X_train, y_train)"
      ],
      "metadata": {
        "colab": {
          "base_uri": "https://localhost:8080/"
        },
        "id": "TlfNzdknEJh4",
        "outputId": "3aae0bb1-e7c5-4809-8674-34cf21580438"
      },
      "execution_count": null,
      "outputs": [
        {
          "output_type": "execute_result",
          "data": {
            "text/plain": [
              "RandomForestRegressor(ccp_alpha=0.001, max_depth=20, max_features='sqrt',\n",
              "                      min_samples_split=10, n_estimators=800, random_state=30)"
            ]
          },
          "metadata": {},
          "execution_count": 36
        }
      ]
    },
    {
      "cell_type": "code",
      "execution_count": null,
      "metadata": {
        "colab": {
          "base_uri": "https://localhost:8080/"
        },
        "id": "l38wysnAe_Jp",
        "outputId": "0c8af40d-e28f-4913-d92d-f05c63ced389"
      },
      "outputs": [
        {
          "output_type": "stream",
          "name": "stdout",
          "text": [
            "train score :0.6064386016750392\n",
            "test score :0.3676753729906571\n"
          ]
        }
      ],
      "source": [
        "print(f'train score :{regr.score(X_train, y_train)}')\n",
        "print(f'test score :{regr.score(X_test, y_test)}')\n"
      ]
    },
    {
      "cell_type": "code",
      "source": [
        ""
      ],
      "metadata": {
        "id": "_D-BY3KgKDkX"
      },
      "execution_count": null,
      "outputs": []
    },
    {
      "cell_type": "markdown",
      "source": [
        "#### poly nomial"
      ],
      "metadata": {
        "id": "5WOCbZUzLPOL"
      }
    },
    {
      "cell_type": "code",
      "source": [
        "\n",
        "regr = RandomForestRegressor(n_estimators=800,random_state=30,ccp_alpha=0.01)\n",
        "regr.fit(poly.fit_transform(X_train),y_train)"
      ],
      "metadata": {
        "colab": {
          "base_uri": "https://localhost:8080/"
        },
        "id": "N4gy9XXNKDda",
        "outputId": "53787d6d-805b-4ff8-9f10-5d6642a6ecc8"
      },
      "execution_count": null,
      "outputs": [
        {
          "output_type": "execute_result",
          "data": {
            "text/plain": [
              "RandomForestRegressor(ccp_alpha=0.01, n_estimators=800, random_state=30)"
            ]
          },
          "metadata": {},
          "execution_count": 46
        }
      ]
    },
    {
      "cell_type": "code",
      "source": [
        "print(f'train score :{regr.score(poly.fit_transform(X_train), y_train)}')\n",
        "print(f'test score :{regr.score(poly.fit_transform(X_test), y_test)}')\n"
      ],
      "metadata": {
        "colab": {
          "base_uri": "https://localhost:8080/"
        },
        "id": "EEys-ZZ7KhiW",
        "outputId": "2d84299e-38c3-49da-978e-c103204a7e87"
      },
      "execution_count": null,
      "outputs": [
        {
          "output_type": "stream",
          "name": "stdout",
          "text": [
            "train score :0.9082806254932392\n",
            "test score :0.33918409246070025\n"
          ]
        }
      ]
    },
    {
      "cell_type": "code",
      "source": [
        "print(f'train RMSE: {mean_squared_error(y_train,regr.predict(poly.fit_transform(X_train)),squared=False)}')\n",
        "print(f'test RMSE: {mean_squared_error(y_test,regr.predict(poly.fit_transform(X_test)),squared=False)}')"
      ],
      "metadata": {
        "colab": {
          "base_uri": "https://localhost:8080/"
        },
        "id": "alAQfTDMMdaV",
        "outputId": "3a589e76-3e55-4b83-e205-358405a71cac"
      },
      "execution_count": null,
      "outputs": [
        {
          "output_type": "stream",
          "name": "stdout",
          "text": [
            "train RMSE: 12.686409178397131\n",
            "test RMSE: 33.17286774663442\n"
          ]
        }
      ]
    },
    {
      "cell_type": "code",
      "source": [
        ""
      ],
      "metadata": {
        "id": "f97zrWgDK4RK"
      },
      "execution_count": null,
      "outputs": []
    },
    {
      "cell_type": "code",
      "source": [
        "from sklearn.preprocessing import normalize"
      ],
      "metadata": {
        "id": "llK4qxNPL5wu"
      },
      "execution_count": null,
      "outputs": []
    },
    {
      "cell_type": "code",
      "source": [
        "regr = RandomForestRegressor(n_estimators=800,random_state=30,ccp_alpha=0.01)"
      ],
      "metadata": {
        "id": "gkRWKnc4NrCo"
      },
      "execution_count": null,
      "outputs": []
    },
    {
      "cell_type": "code",
      "source": [
        "\n",
        "regr.fit(normalize(X_train),y_train)"
      ],
      "metadata": {
        "colab": {
          "base_uri": "https://localhost:8080/"
        },
        "id": "YzL-nEGNLdA1",
        "outputId": "25d37495-8012-49d2-b485-3dd1370559d3"
      },
      "execution_count": null,
      "outputs": [
        {
          "output_type": "execute_result",
          "data": {
            "text/plain": [
              "(14597, 5)"
            ]
          },
          "metadata": {},
          "execution_count": 53
        }
      ]
    },
    {
      "cell_type": "code",
      "source": [
        "print(f'train RMSE: {mean_squared_error(y_train,regr.predict(normalize(X_train)),squared=False)}')\n",
        "print(f'test RMSE: {mean_squared_error(y_test,regr.predict(normalize(X_test)),squared=False)}')"
      ],
      "metadata": {
        "id": "E03w6AVbNbKP"
      },
      "execution_count": null,
      "outputs": []
    },
    {
      "cell_type": "code",
      "source": [
        "regr.predict(normalize(X_test))"
      ],
      "metadata": {
        "id": "RjD69nMvNNfJ"
      },
      "execution_count": null,
      "outputs": []
    },
    {
      "cell_type": "code",
      "execution_count": null,
      "metadata": {
        "colab": {
          "base_uri": "https://localhost:8080/"
        },
        "id": "g3ePqNhGa_LM",
        "outputId": "8fef4cfd-1c4d-4435-cddb-5fd68b7bc5f5"
      },
      "outputs": [
        {
          "data": {
            "text/plain": [
              "array([-34.74167075, -34.11057258, -33.82451307, -34.46849716,\n",
              "       -34.51327756])"
            ]
          },
          "execution_count": 61,
          "metadata": {},
          "output_type": "execute_result"
        }
      ],
      "source": [
        "cross_val_score(regr, X_train,y_train, cv=5,scoring=('neg_root_mean_squared_error'),)"
      ]
    },
    {
      "cell_type": "markdown",
      "metadata": {
        "id": "BzDM69bGiSFA"
      },
      "source": [
        "# lasso\n"
      ]
    },
    {
      "cell_type": "code",
      "execution_count": null,
      "metadata": {
        "colab": {
          "base_uri": "https://localhost:8080/"
        },
        "id": "3vOFrkNbiRXV",
        "outputId": "d5a76d7b-3054-44f6-9336-198391f8ff8a"
      },
      "outputs": [
        {
          "name": "stdout",
          "output_type": "stream",
          "text": [
            "train RMSE: 41.13626908662432\n",
            "test RMSE: 40.20414097122999\n"
          ]
        }
      ],
      "source": [
        "from sklearn.linear_model import Lasso\n",
        "las = Lasso(alpha=0.01,max_iter=600)\n",
        "\n",
        "las.fit(X_train, y_train)\n",
        "print(f'train RMSE: {mean_squared_error(y_train,las.predict(X_train),squared=False)}')\n",
        "print(f'test RMSE: {mean_squared_error(y_test,las.predict(X_test),squared=False)}')"
      ]
    },
    {
      "cell_type": "code",
      "execution_count": null,
      "metadata": {
        "colab": {
          "base_uri": "https://localhost:8080/"
        },
        "id": "krO6Z2wzjZ7F",
        "outputId": "e0dd37fb-1624-4e11-ecfb-8fb267faf2a8"
      },
      "outputs": [
        {
          "name": "stdout",
          "output_type": "stream",
          "text": [
            "train RMSE: 41.18694996337923\n",
            "test RMSE: 40.263169494072436\n"
          ]
        }
      ],
      "source": [
        "from sklearn.linear_model import ElasticNet\n",
        "elas = ElasticNet()\n",
        "\n",
        "elas.fit(X_train, y_train)\n",
        "print(f'train RMSE: {mean_squared_error(y_train,elas.predict(X_train),squared=False)}')\n",
        "print(f'test RMSE: {mean_squared_error(y_test,elas.predict(X_test),squared=False)}')"
      ]
    },
    {
      "cell_type": "markdown",
      "metadata": {
        "id": "IdF8UktzvstX"
      },
      "source": [
        "## KNN"
      ]
    },
    {
      "cell_type": "code",
      "execution_count": null,
      "metadata": {
        "colab": {
          "base_uri": "https://localhost:8080/"
        },
        "id": "Ucg8N0gqjzcm",
        "outputId": "77c9dc43-6df6-47ce-b602-8706badab987"
      },
      "outputs": [
        {
          "output_type": "stream",
          "name": "stdout",
          "text": [
            "train RMSE: 28.226867250930834\n",
            "test RMSE: 34.774699667808804\n"
          ]
        }
      ],
      "source": [
        "from sklearn.neighbors import KNeighborsRegressor\n",
        "kn = KNeighborsRegressor()\n",
        "\n",
        "kn.fit(X_train, y_train)\n",
        "print(f'train RMSE: {mean_squared_error(y_train,kn.predict(X_train),squared=False)}')\n",
        "print(f'test RMSE: {mean_squared_error(y_test,kn.predict(X_test),squared=False)}')"
      ]
    },
    {
      "cell_type": "code",
      "execution_count": null,
      "metadata": {
        "id": "QXD_Gaa8vmOd"
      },
      "outputs": [],
      "source": [
        "kn = KNeighborsRegressor()\n",
        "rf_random = RandomizedSearchCV(estimator = kn, param_distributions = random_grid, n_iter = 100, cv = 3, verbose=2, random_state=42, n_jobs = -1)"
      ]
    },
    {
      "cell_type": "code",
      "execution_count": null,
      "metadata": {
        "id": "pzvKj6K3v03G",
        "colab": {
          "base_uri": "https://localhost:8080/"
        },
        "outputId": "36afd297-11cf-4ad6-d8f8-44ffcfe2ef17"
      },
      "outputs": [
        {
          "output_type": "execute_result",
          "data": {
            "text/plain": [
              "{'algorithm': 'auto',\n",
              " 'leaf_size': 30,\n",
              " 'metric': 'minkowski',\n",
              " 'metric_params': None,\n",
              " 'n_jobs': None,\n",
              " 'n_neighbors': 5,\n",
              " 'p': 2,\n",
              " 'weights': 'uniform'}"
            ]
          },
          "metadata": {},
          "execution_count": 41
        }
      ],
      "source": [
        "KNeighborsRegressor().get_params()"
      ]
    },
    {
      "cell_type": "code",
      "execution_count": null,
      "metadata": {
        "id": "XpGTnI12kVo6"
      },
      "outputs": [],
      "source": [
        "def model_score_check(model_):\n",
        "    model1 = model_()\n",
        "\n",
        "    model1.fit(X_train, y_train)\n",
        "    print(f'train RMSE: {mean_squared_error(y_train,model1.predict(X_train),squared=False)}')\n",
        "    print(f'test RMSE: {mean_squared_error(y_test,model1.predict(X_test),squared=False)}')\n",
        "   \n"
      ]
    },
    {
      "cell_type": "code",
      "execution_count": null,
      "metadata": {
        "id": "v5IO5ProkUrm"
      },
      "outputs": [],
      "source": [
        "from sklearn.svm import SVR"
      ]
    },
    {
      "cell_type": "code",
      "execution_count": null,
      "metadata": {
        "colab": {
          "base_uri": "https://localhost:8080/"
        },
        "id": "LsZGCLTpkuzc",
        "outputId": "06e20170-cf35-4959-ba2f-11f59fbf86d5"
      },
      "outputs": [
        {
          "name": "stdout",
          "output_type": "stream",
          "text": [
            "train RMSE: 41.970895841027904\n",
            "test RMSE: 40.97834122880999\n"
          ]
        }
      ],
      "source": [
        "model_score_check(SVR)"
      ]
    },
    {
      "cell_type": "code",
      "execution_count": null,
      "metadata": {
        "id": "x82JTttZlbWD"
      },
      "outputs": [],
      "source": [
        "from sklearn.linear_model import RANSACRegressor"
      ]
    },
    {
      "cell_type": "code",
      "execution_count": null,
      "metadata": {
        "colab": {
          "base_uri": "https://localhost:8080/"
        },
        "id": "E4XodGvslgSu",
        "outputId": "f561869a-13f8-437a-e762-3610df02c4c4"
      },
      "outputs": [
        {
          "name": "stdout",
          "output_type": "stream",
          "text": [
            "train RMSE: 86.0724670687277\n",
            "test RMSE: 90.21579474384012\n"
          ]
        }
      ],
      "source": [
        "model_score_check(RANSACRegressor)"
      ]
    },
    {
      "cell_type": "code",
      "execution_count": null,
      "metadata": {
        "id": "46MAsyB8mEh2"
      },
      "outputs": [],
      "source": [
        "from sklearn.gaussian_process import GaussianProcessRegressor"
      ]
    },
    {
      "cell_type": "code",
      "execution_count": null,
      "metadata": {
        "colab": {
          "base_uri": "https://localhost:8080/"
        },
        "id": "HTX4GesImFsF",
        "outputId": "da60228e-c6e8-43a8-d99a-7233ce569caf"
      },
      "outputs": [
        {
          "name": "stdout",
          "output_type": "stream",
          "text": [
            "train RMSE: 5.996644323632049e-08\n",
            "test RMSE: 54.7829265178176\n"
          ]
        }
      ],
      "source": [
        "model_score_check(GaussianProcessRegressor)"
      ]
    },
    {
      "cell_type": "markdown",
      "metadata": {
        "id": "NJOMwVIwv-PM"
      },
      "source": [
        "## GradientBoost"
      ]
    },
    {
      "cell_type": "code",
      "execution_count": null,
      "metadata": {
        "id": "nmEEkBNGqG_Q"
      },
      "outputs": [],
      "source": [
        "from sklearn.ensemble import GradientBoostingRegressor"
      ]
    },
    {
      "cell_type": "code",
      "execution_count": null,
      "metadata": {
        "colab": {
          "base_uri": "https://localhost:8080/"
        },
        "id": "qXcNsQaJqI1u",
        "outputId": "079ce447-36c4-41be-d753-8a9bfd931b10"
      },
      "outputs": [
        {
          "name": "stdout",
          "output_type": "stream",
          "text": [
            "train RMSE: 35.603777589774104\n",
            "test RMSE: 34.84243924332106\n"
          ]
        }
      ],
      "source": [
        "model_score_check(GradientBoostingRegressor)"
      ]
    },
    {
      "cell_type": "code",
      "execution_count": null,
      "metadata": {
        "id": "raG02hGUqRad"
      },
      "outputs": [],
      "source": [
        "from sklearn.ensemble import VotingRegressor\n",
        "\n",
        "ereg = VotingRegressor(estimators=[('gb', GradientBoostingRegressor()), ('knn', KNeighborsRegressor()), ('lso', Lasso(alpha=0.01,max_iter=600)),('randomfore',RandomForestRegressor(n_estimators=800,random_state=30,ccp_alpha=0.01)),])\n",
        "\n",
        "ereg = ereg.fit(X, y)\n"
      ]
    },
    {
      "cell_type": "code",
      "execution_count": null,
      "metadata": {
        "colab": {
          "base_uri": "https://localhost:8080/"
        },
        "id": "-_vjfeSQrAEf",
        "outputId": "4f362f12-9780-49e8-93d4-2a74b012b2f7"
      },
      "outputs": [
        {
          "name": "stdout",
          "output_type": "stream",
          "text": [
            "train RMSE: 27.398763650424087\n",
            "test RMSE: 26.771128055541425\n"
          ]
        }
      ],
      "source": [
        "print(f'train RMSE: {mean_squared_error(y_train,ereg.predict(X_train),squared=False)}')\n",
        "print(f'test RMSE: {mean_squared_error(y_test,ereg.predict(X_test),squared=False)}')"
      ]
    },
    {
      "cell_type": "code",
      "execution_count": null,
      "metadata": {
        "id": "lHLJo_agwgAw"
      },
      "outputs": [],
      "source": [
        "ereg = ereg.fit(X_train, y_train)"
      ]
    },
    {
      "cell_type": "code",
      "execution_count": null,
      "metadata": {
        "colab": {
          "base_uri": "https://localhost:8080/"
        },
        "id": "SfUut6vQwmVN",
        "outputId": "cb388624-504b-4cfa-84c0-7968e3d2c583"
      },
      "outputs": [
        {
          "name": "stdout",
          "output_type": "stream",
          "text": [
            "train RMSE: 27.442087358924308\n",
            "test RMSE: 33.3600619690349\n"
          ]
        }
      ],
      "source": [
        "print(f'train RMSE: {mean_squared_error(y_train,ereg.predict(X_train),squared=False)}')\n",
        "print(f'test RMSE: {mean_squared_error(y_test,ereg.predict(X_test),squared=False)}')"
      ]
    },
    {
      "cell_type": "code",
      "execution_count": null,
      "metadata": {
        "colab": {
          "base_uri": "https://localhost:8080/"
        },
        "id": "bzl6IH2lJnqN",
        "outputId": "48dcde2f-7f51-412b-b961-b0df37b5ccc0"
      },
      "outputs": [
        {
          "name": "stdout",
          "output_type": "stream",
          "text": [
            "train RMSE: 27.97572296902146\n",
            "test RMSE: 27.39956829017875\n"
          ]
        }
      ],
      "source": [
        "# adding hist\n",
        "ereg = VotingRegressor(estimators=[('gb', GradientBoostingRegressor()), ('knn', KNeighborsRegressor()), ('lso', Lasso(alpha=0.01,max_iter=600)),('randomfore',RandomForestRegressor(n_estimators=800,random_state=30,ccp_alpha=0.01)),('histogram',HistGradientBoostingRegressor())])\n",
        "\n",
        "ereg = ereg.fit(X, y)\n",
        "print(f'train RMSE: {mean_squared_error(y_train,ereg.predict(X_train),squared=False)}')\n",
        "print(f'test RMSE: {mean_squared_error(y_test,ereg.predict(X_test),squared=False)}')"
      ]
    },
    {
      "cell_type": "code",
      "execution_count": null,
      "metadata": {
        "colab": {
          "base_uri": "https://localhost:8080/"
        },
        "id": "n2QAORXBLCsl",
        "outputId": "68f8521b-1330-4146-e072-c31e25a11078"
      },
      "outputs": [
        {
          "name": "stdout",
          "output_type": "stream",
          "text": [
            "train RMSE: 25.832105148413387\n",
            "test RMSE: 25.37698670428987\n"
          ]
        }
      ],
      "source": [
        "# removing lasso\n",
        "ereg = VotingRegressor(estimators=[('gb', GradientBoostingRegressor()), ('knn', KNeighborsRegressor()),('randomfore',RandomForestRegressor(n_estimators=800,random_state=30,ccp_alpha=0.01)),('histogram',HistGradientBoostingRegressor())])\n",
        "\n",
        "ereg = ereg.fit(X, y)\n",
        "print(f'train RMSE: {mean_squared_error(y_train,ereg.predict(X_train),squared=False)}')\n",
        "print(f'test RMSE: {mean_squared_error(y_test,ereg.predict(X_test),squared=False)}')"
      ]
    },
    {
      "cell_type": "markdown",
      "metadata": {
        "id": "z0GL01lIwECQ"
      },
      "source": [
        "## Hist"
      ]
    },
    {
      "cell_type": "code",
      "source": [
        "from sklearn.ensemble import HistGradientBoostingRegressor"
      ],
      "metadata": {
        "id": "VCJ3nNNlPlTL"
      },
      "execution_count": null,
      "outputs": []
    },
    {
      "cell_type": "code",
      "execution_count": null,
      "metadata": {
        "colab": {
          "base_uri": "https://localhost:8080/"
        },
        "id": "c-I6Z4vD8Uo3",
        "outputId": "e5eead21-d003-4f8b-8a05-9b08243f5c5e"
      },
      "outputs": [
        {
          "name": "stdout",
          "output_type": "stream",
          "text": [
            "train RMSE: 31.445747442366574\n",
            "test RMSE: 32.7244163966017\n"
          ]
        }
      ],
      "source": [
        "\n",
        "model_score_check(HistGradientBoostingRegressor)"
      ]
    },
    {
      "cell_type": "markdown",
      "metadata": {
        "id": "i6Ks75vHAj8O"
      },
      "source": [
        "\n",
        "* HistGradientBoostingRegressor\n",
        "\n",
        "\n",
        "* GradientBoostingRegressor\n",
        "* KNeighborsRegressor\n",
        "\n",
        "* RandomForestRegressor\n",
        "\n",
        "\n",
        "\n"
      ]
    },
    {
      "cell_type": "code",
      "execution_count": null,
      "metadata": {
        "id": "RtIYXNX_86eB"
      },
      "outputs": [],
      "source": [
        "from sklearn.ensemble import StackingRegressor\n",
        "stackreg=StackingRegressor(estimators=[('gb', GradientBoostingRegressor()), ('knn', KNeighborsRegressor()), ('lso', Lasso(alpha=0.01,max_iter=600)),('randomfore',RandomForestRegressor(n_estimators=800,random_state=30,ccp_alpha=0.01)),])"
      ]
    },
    {
      "cell_type": "code",
      "execution_count": null,
      "metadata": {
        "colab": {
          "base_uri": "https://localhost:8080/"
        },
        "id": "L4JgECFX9QMg",
        "outputId": "2ecd7cb8-775e-4e8b-d38a-9a1de8b6b872"
      },
      "outputs": [
        {
          "data": {
            "text/plain": [
              "StackingRegressor(estimators=[('gb', GradientBoostingRegressor()),\n",
              "                              ('knn', KNeighborsRegressor()),\n",
              "                              ('lso', Lasso(alpha=0.01, max_iter=600)),\n",
              "                              ('randomfore',\n",
              "                               RandomForestRegressor(ccp_alpha=0.01,\n",
              "                                                     n_estimators=800,\n",
              "                                                     random_state=30))])"
            ]
          },
          "execution_count": 93,
          "metadata": {},
          "output_type": "execute_result"
        }
      ],
      "source": [
        "stackreg.fit(X_train, y_train)"
      ]
    },
    {
      "cell_type": "code",
      "execution_count": null,
      "metadata": {
        "colab": {
          "base_uri": "https://localhost:8080/"
        },
        "id": "uNXDHu159Uyu",
        "outputId": "4e8537e3-25e5-4c36-ce69-851d84510318"
      },
      "outputs": [
        {
          "name": "stdout",
          "output_type": "stream",
          "text": [
            "train RMSE: 20.8533811448036\n",
            "test RMSE: 32.63392284385174\n"
          ]
        }
      ],
      "source": [
        "print(f'train RMSE: {mean_squared_error(y_train,stackreg.predict(X_train),squared=False)}')\n",
        "print(f'test RMSE: {mean_squared_error(y_test,stackreg.predict(X_test),squared=False)}')"
      ]
    },
    {
      "cell_type": "code",
      "execution_count": null,
      "metadata": {
        "colab": {
          "base_uri": "https://localhost:8080/"
        },
        "id": "Smsr9Ok49g-7",
        "outputId": "c830d144-4cbe-4d29-97ce-07cbae63db66"
      },
      "outputs": [
        {
          "name": "stdout",
          "output_type": "stream",
          "text": [
            "train RMSE: 0.07268823025473442\n",
            "test RMSE: 36.8805639121466\n"
          ]
        }
      ],
      "source": [
        "from sklearn.ensemble import ExtraTreesRegressor\n",
        "model_score_check(ExtraTreesRegressor)"
      ]
    },
    {
      "cell_type": "markdown",
      "metadata": {
        "id": "OSpSw6pSDOFY"
      },
      "source": [
        "# test data convert into trainable type"
      ]
    },
    {
      "cell_type": "code",
      "execution_count": null,
      "metadata": {
        "colab": {
          "base_uri": "https://localhost:8080/"
        },
        "id": "OSRKJFGDBtcw",
        "outputId": "5d4b13f4-7b9d-42f3-a3a4-92ef24b08dc1"
      },
      "outputs": [
        {
          "name": "stderr",
          "output_type": "stream",
          "text": [
            "/usr/local/lib/python3.7/dist-packages/ipykernel_launcher.py:6: FutureWarning: Series.dt.weekofyear and Series.dt.week have been deprecated.  Please use Series.dt.isocalendar().week instead.\n",
            "  \n"
          ]
        }
      ],
      "source": [
        " \n",
        "new_test=data_enginerring(test_df)\n",
        "new_test=new_test.drop(axis=0,columns='date',)"
      ]
    },
    {
      "cell_type": "code",
      "execution_count": null,
      "metadata": {
        "id": "iN9_zxZSE7c4"
      },
      "outputs": [],
      "source": [
        "# pridictin data and add into dataframe\n",
        "test_df['demand']=model_dec.predict(new_test)\n",
        "test_df['demand']=test_df['demand'].astype(np.int64,)"
      ]
    },
    {
      "cell_type": "code",
      "execution_count": null,
      "metadata": {
        "colab": {
          "base_uri": "https://localhost:8080/",
          "height": 206
        },
        "id": "-2Ex6Q8m4eue",
        "outputId": "ed6522c5-84ca-41a4-a973-089d84c49d88"
      },
      "outputs": [
        {
          "data": {
            "text/html": [
              "\n",
              "  <div id=\"df-4ab4313a-3533-4050-9412-a16bbca1e8f3\">\n",
              "    <div class=\"colab-df-container\">\n",
              "      <div>\n",
              "<style scoped>\n",
              "    .dataframe tbody tr th:only-of-type {\n",
              "        vertical-align: middle;\n",
              "    }\n",
              "\n",
              "    .dataframe tbody tr th {\n",
              "        vertical-align: top;\n",
              "    }\n",
              "\n",
              "    .dataframe thead th {\n",
              "        text-align: right;\n",
              "    }\n",
              "</style>\n",
              "<table border=\"1\" class=\"dataframe\">\n",
              "  <thead>\n",
              "    <tr style=\"text-align: right;\">\n",
              "      <th></th>\n",
              "      <th>date</th>\n",
              "      <th>hour</th>\n",
              "      <th>demand</th>\n",
              "    </tr>\n",
              "  </thead>\n",
              "  <tbody>\n",
              "    <tr>\n",
              "      <th>0</th>\n",
              "      <td>2021-03-01</td>\n",
              "      <td>0</td>\n",
              "      <td>69</td>\n",
              "    </tr>\n",
              "    <tr>\n",
              "      <th>1</th>\n",
              "      <td>2021-03-01</td>\n",
              "      <td>1</td>\n",
              "      <td>59</td>\n",
              "    </tr>\n",
              "    <tr>\n",
              "      <th>2</th>\n",
              "      <td>2021-03-01</td>\n",
              "      <td>2</td>\n",
              "      <td>46</td>\n",
              "    </tr>\n",
              "    <tr>\n",
              "      <th>3</th>\n",
              "      <td>2021-03-01</td>\n",
              "      <td>3</td>\n",
              "      <td>16</td>\n",
              "    </tr>\n",
              "    <tr>\n",
              "      <th>4</th>\n",
              "      <td>2021-03-01</td>\n",
              "      <td>5</td>\n",
              "      <td>70</td>\n",
              "    </tr>\n",
              "  </tbody>\n",
              "</table>\n",
              "</div>\n",
              "      <button class=\"colab-df-convert\" onclick=\"convertToInteractive('df-4ab4313a-3533-4050-9412-a16bbca1e8f3')\"\n",
              "              title=\"Convert this dataframe to an interactive table.\"\n",
              "              style=\"display:none;\">\n",
              "        \n",
              "  <svg xmlns=\"http://www.w3.org/2000/svg\" height=\"24px\"viewBox=\"0 0 24 24\"\n",
              "       width=\"24px\">\n",
              "    <path d=\"M0 0h24v24H0V0z\" fill=\"none\"/>\n",
              "    <path d=\"M18.56 5.44l.94 2.06.94-2.06 2.06-.94-2.06-.94-.94-2.06-.94 2.06-2.06.94zm-11 1L8.5 8.5l.94-2.06 2.06-.94-2.06-.94L8.5 2.5l-.94 2.06-2.06.94zm10 10l.94 2.06.94-2.06 2.06-.94-2.06-.94-.94-2.06-.94 2.06-2.06.94z\"/><path d=\"M17.41 7.96l-1.37-1.37c-.4-.4-.92-.59-1.43-.59-.52 0-1.04.2-1.43.59L10.3 9.45l-7.72 7.72c-.78.78-.78 2.05 0 2.83L4 21.41c.39.39.9.59 1.41.59.51 0 1.02-.2 1.41-.59l7.78-7.78 2.81-2.81c.8-.78.8-2.07 0-2.86zM5.41 20L4 18.59l7.72-7.72 1.47 1.35L5.41 20z\"/>\n",
              "  </svg>\n",
              "      </button>\n",
              "      \n",
              "  <style>\n",
              "    .colab-df-container {\n",
              "      display:flex;\n",
              "      flex-wrap:wrap;\n",
              "      gap: 12px;\n",
              "    }\n",
              "\n",
              "    .colab-df-convert {\n",
              "      background-color: #E8F0FE;\n",
              "      border: none;\n",
              "      border-radius: 50%;\n",
              "      cursor: pointer;\n",
              "      display: none;\n",
              "      fill: #1967D2;\n",
              "      height: 32px;\n",
              "      padding: 0 0 0 0;\n",
              "      width: 32px;\n",
              "    }\n",
              "\n",
              "    .colab-df-convert:hover {\n",
              "      background-color: #E2EBFA;\n",
              "      box-shadow: 0px 1px 2px rgba(60, 64, 67, 0.3), 0px 1px 3px 1px rgba(60, 64, 67, 0.15);\n",
              "      fill: #174EA6;\n",
              "    }\n",
              "\n",
              "    [theme=dark] .colab-df-convert {\n",
              "      background-color: #3B4455;\n",
              "      fill: #D2E3FC;\n",
              "    }\n",
              "\n",
              "    [theme=dark] .colab-df-convert:hover {\n",
              "      background-color: #434B5C;\n",
              "      box-shadow: 0px 1px 3px 1px rgba(0, 0, 0, 0.15);\n",
              "      filter: drop-shadow(0px 1px 2px rgba(0, 0, 0, 0.3));\n",
              "      fill: #FFFFFF;\n",
              "    }\n",
              "  </style>\n",
              "\n",
              "      <script>\n",
              "        const buttonEl =\n",
              "          document.querySelector('#df-4ab4313a-3533-4050-9412-a16bbca1e8f3 button.colab-df-convert');\n",
              "        buttonEl.style.display =\n",
              "          google.colab.kernel.accessAllowed ? 'block' : 'none';\n",
              "\n",
              "        async function convertToInteractive(key) {\n",
              "          const element = document.querySelector('#df-4ab4313a-3533-4050-9412-a16bbca1e8f3');\n",
              "          const dataTable =\n",
              "            await google.colab.kernel.invokeFunction('convertToInteractive',\n",
              "                                                     [key], {});\n",
              "          if (!dataTable) return;\n",
              "\n",
              "          const docLinkHtml = 'Like what you see? Visit the ' +\n",
              "            '<a target=\"_blank\" href=https://colab.research.google.com/notebooks/data_table.ipynb>data table notebook</a>'\n",
              "            + ' to learn more about interactive tables.';\n",
              "          element.innerHTML = '';\n",
              "          dataTable['output_type'] = 'display_data';\n",
              "          await google.colab.output.renderOutput(dataTable, element);\n",
              "          const docLink = document.createElement('div');\n",
              "          docLink.innerHTML = docLinkHtml;\n",
              "          element.appendChild(docLink);\n",
              "        }\n",
              "      </script>\n",
              "    </div>\n",
              "  </div>\n",
              "  "
            ],
            "text/plain": [
              "         date  hour  demand\n",
              "0  2021-03-01     0      69\n",
              "1  2021-03-01     1      59\n",
              "2  2021-03-01     2      46\n",
              "3  2021-03-01     3      16\n",
              "4  2021-03-01     5      70"
            ]
          },
          "execution_count": 32,
          "metadata": {},
          "output_type": "execute_result"
        }
      ],
      "source": [
        "test_df.head()"
      ]
    },
    {
      "cell_type": "code",
      "execution_count": null,
      "metadata": {
        "id": "tsT4P0TqE-vl"
      },
      "outputs": [],
      "source": [
        "test_df.to_csv('submission.csv',index=False)"
      ]
    },
    {
      "cell_type": "code",
      "execution_count": null,
      "metadata": {
        "id": "3Zfry1hF8nvl"
      },
      "outputs": [],
      "source": [
        ""
      ]
    },
    {
      "cell_type": "code",
      "source": [
        ""
      ],
      "metadata": {
        "id": "NT_zg1CMOflr"
      },
      "execution_count": null,
      "outputs": []
    },
    {
      "cell_type": "markdown",
      "source": [
        "# Experiment area 51"
      ],
      "metadata": {
        "id": "eO_iuuhlOg8e"
      }
    },
    {
      "cell_type": "code",
      "source": [
        "from sklearn.ensemble import VotingRegressor"
      ],
      "metadata": {
        "id": "k7zA3FJXOsav"
      },
      "execution_count": null,
      "outputs": []
    },
    {
      "cell_type": "code",
      "source": [
        "ereg = VotingRegressor(estimators=[('gb', GradientBoostingRegressor()), ('knn', KNeighborsRegressor()),('randomfore',RandomForestRegressor(n_estimators=800,random_state=30,ccp_alpha=0.01)),('histogram',HistGradientBoostingRegressor())])\n",
        "poly=PolynomialFeatures(3)\n",
        "ereg = ereg.fit(poly.fit_transform(X_train), y_train)\n"
      ],
      "metadata": {
        "id": "o1SZkLQNOjSo"
      },
      "execution_count": null,
      "outputs": []
    },
    {
      "cell_type": "code",
      "source": [
        "poly_feature_x_train=poly.fit_transform(X_train)\n",
        "poly_feature_x_test=poly.fit_transform(X_test)"
      ],
      "metadata": {
        "id": "LTkMz7P3TIoN"
      },
      "execution_count": null,
      "outputs": []
    },
    {
      "cell_type": "code",
      "source": [
        "print(f'train RMSE: {mean_squared_error(y_train,ereg.predict(poly_feature_x_train),squared=False)}')\n",
        "print(f'test RMSE: {mean_squared_error(y_test,ereg.predict(poly_feature_x_test),squared=False)}')"
      ],
      "metadata": {
        "colab": {
          "base_uri": "https://localhost:8080/"
        },
        "id": "Fkst2Z9uPF-B",
        "outputId": "400d03cc-bd4a-4ff7-994f-bd5a7a694354"
      },
      "execution_count": null,
      "outputs": [
        {
          "output_type": "stream",
          "name": "stdout",
          "text": [
            "train RMSE: 25.446755190051114\n",
            "test RMSE: 32.35199965516486\n"
          ]
        }
      ]
    },
    {
      "cell_type": "code",
      "source": [
        ""
      ],
      "metadata": {
        "id": "2mgWnmWWRMmW"
      },
      "execution_count": null,
      "outputs": []
    },
    {
      "cell_type": "code",
      "source": [
        "poly=PolynomialFeatures(4)\n",
        "ereg = ereg.fit(poly.fit_transform(X_train), y_train)\n",
        "poly_feature_x_train=poly.fit_transform(X_train)\n",
        "poly_feature_x_test=poly.fit_transform(X_test)\n",
        "print(f'train RMSE: {mean_squared_error(y_train,ereg.predict(poly_feature_x_train),squared=False)}')\n",
        "print(f'test RMSE: {mean_squared_error(y_test,ereg.predict(poly_feature_x_test),squared=False)}')"
      ],
      "metadata": {
        "colab": {
          "base_uri": "https://localhost:8080/"
        },
        "id": "RK1CKQOFcjgy",
        "outputId": "907cca90-c412-438f-97ae-f1310f80054b"
      },
      "execution_count": null,
      "outputs": [
        {
          "output_type": "stream",
          "name": "stdout",
          "text": [
            "train RMSE: 25.235792853795946\n",
            "test RMSE: 32.39778786600965\n"
          ]
        }
      ]
    },
    {
      "cell_type": "code",
      "source": [
        ""
      ],
      "metadata": {
        "id": "xqIdw0FpcjTV"
      },
      "execution_count": null,
      "outputs": []
    },
    {
      "cell_type": "code",
      "source": [
        "poly=PolynomialFeatures(5)\n",
        "ereg = ereg.fit(poly.fit_transform(X_train), y_train)\n",
        "poly_feature_x_train=poly.fit_transform(X_train)\n",
        "poly_feature_x_test=poly.fit_transform(X_test)\n",
        "print(f'train RMSE: {mean_squared_error(y_train,ereg.predict(poly_feature_x_train),squared=False)}')\n",
        "print(f'test RMSE: {mean_squared_error(y_test,ereg.predict(poly_feature_x_test),squared=False)}')"
      ],
      "metadata": {
        "colab": {
          "base_uri": "https://localhost:8080/"
        },
        "id": "ZaUbqsLjcuSC",
        "outputId": "e0801046-adca-4dd4-c941-7dbe2e0395df"
      },
      "execution_count": null,
      "outputs": [
        {
          "output_type": "stream",
          "name": "stdout",
          "text": [
            "train RMSE: 25.163112109933248\n",
            "test RMSE: 32.42196627135088\n"
          ]
        }
      ]
    },
    {
      "cell_type": "code",
      "source": [
        ""
      ],
      "metadata": {
        "id": "HCzpOeFucxK8"
      },
      "execution_count": null,
      "outputs": []
    },
    {
      "cell_type": "code",
      "source": [
        ""
      ],
      "metadata": {
        "id": "NqUXhklBhiz0"
      },
      "execution_count": null,
      "outputs": []
    },
    {
      "cell_type": "code",
      "source": [
        "from sklearn.preprocessing import StandardScaler\n",
        "scaler=StandardScaler()\n",
        "scaler_x=scaler.fit_transform(X_train)\n",
        "scaler_x_test=scaler.fit_transform(X_test)"
      ],
      "metadata": {
        "id": "HFMFuO5QRNDY"
      },
      "execution_count": null,
      "outputs": []
    },
    {
      "cell_type": "code",
      "source": [
        "ereg.fit(scaler_x, y_train)"
      ],
      "metadata": {
        "colab": {
          "base_uri": "https://localhost:8080/"
        },
        "id": "NrHLGMJISIeS",
        "outputId": "a9df5c01-66b6-4980-b4a0-d5fea5b3e1ba"
      },
      "execution_count": null,
      "outputs": [
        {
          "output_type": "execute_result",
          "data": {
            "text/plain": [
              "VotingRegressor(estimators=[('gb', GradientBoostingRegressor()),\n",
              "                            ('knn', KNeighborsRegressor()),\n",
              "                            ('randomfore',\n",
              "                             RandomForestRegressor(ccp_alpha=0.01,\n",
              "                                                   n_estimators=800,\n",
              "                                                   random_state=30)),\n",
              "                            ('histogram', HistGradientBoostingRegressor())])"
            ]
          },
          "metadata": {},
          "execution_count": 73
        }
      ]
    },
    {
      "cell_type": "code",
      "source": [
        "print(f'train RMSE: {mean_squared_error(y_train,ereg.predict(scaler_x),squared=False)}')\n",
        "print(f'test RMSE: {mean_squared_error(y_test,ereg.predict(scaler_x_test),squared=False)}')"
      ],
      "metadata": {
        "colab": {
          "base_uri": "https://localhost:8080/"
        },
        "id": "4nabopS2SQ8c",
        "outputId": "975d6037-aff3-417a-bf6f-9f3b56e2ebaf"
      },
      "execution_count": null,
      "outputs": [
        {
          "output_type": "stream",
          "name": "stdout",
          "text": [
            "train RMSE: 25.69422552235921\n",
            "test RMSE: 32.31945338196264\n"
          ]
        }
      ]
    }
  ],
  "metadata": {
    "colab": {
      "collapsed_sections": [
        "a_6FP91y5OzW",
        "OSpSw6pSDOFY"
      ],
      "name": "JOB-A-THON project X.ipynb",
      "toc_visible": true,
      "provenance": []
    },
    "kernelspec": {
      "display_name": "Python 3",
      "name": "python3"
    },
    "language_info": {
      "name": "python"
    }
  },
  "nbformat": 4,
  "nbformat_minor": 0
}