{
  "nbformat": 4,
  "nbformat_minor": 0,
  "metadata": {
    "colab": {
      "name": "JOB-A-THON Esamble method santander.ipynb",
      "provenance": [],
      "collapsed_sections": []
    },
    "kernelspec": {
      "name": "python3",
      "display_name": "Python 3"
    },
    "language_info": {
      "name": "python"
    }
  },
  "cells": [
    {
      "cell_type": "code",
      "source": [
        "import pandas as pd\n",
        "import numpy as np\n",
        "\n",
        "from sklearn.ensemble import RandomForestRegressor\n",
        "from sklearn.ensemble import HistGradientBoostingRegressor\n",
        "from sklearn.ensemble import GradientBoostingRegressor\n",
        "from sklearn.neighbors import KNeighborsRegressor\n",
        "from sklearn.ensemble import VotingRegressor\n",
        "from sklearn.preprocessing import StandardScaler\n",
        "\n",
        "\n",
        "from sklearn.metrics import mean_squared_error"
      ],
      "metadata": {
        "id": "KcUUgG-U6-gf"
      },
      "execution_count": null,
      "outputs": []
    },
    {
      "cell_type": "code",
      "source": [
        "sample_df=pd.read_csv('sample_4E0BhPN.csv')\n",
        "test_df=pd.read_csv('test_6QvDdzb.csv')\n",
        "train_df=pd.read_csv('train_E1GspfA.csv')"
      ],
      "metadata": {
        "id": "jYHJ_jpO7E0j"
      },
      "execution_count": null,
      "outputs": []
    },
    {
      "cell_type": "markdown",
      "source": [
        "# Checking null values"
      ],
      "metadata": {
        "id": "a_6FP91y5OzW"
      }
    },
    {
      "cell_type": "code",
      "source": [
        "train_df.isnull().sum()"
      ],
      "metadata": {
        "colab": {
          "base_uri": "https://localhost:8080/"
        },
        "id": "5PoC-Y8DBnh4",
        "outputId": "d200c23d-4993-45e3-8f86-37f0fc3d8c4b"
      },
      "execution_count": null,
      "outputs": [
        {
          "output_type": "execute_result",
          "data": {
            "text/plain": [
              "date      0\n",
              "hour      0\n",
              "demand    0\n",
              "dtype: int64"
            ]
          },
          "metadata": {},
          "execution_count": 8
        }
      ]
    },
    {
      "cell_type": "code",
      "source": [
        "train_df.duplicated().sum()"
      ],
      "metadata": {
        "colab": {
          "base_uri": "https://localhost:8080/"
        },
        "id": "_41m42ldCJE-",
        "outputId": "c2eb5a03-c4da-4af0-c1eb-5ff9c6dec855"
      },
      "execution_count": null,
      "outputs": [
        {
          "output_type": "execute_result",
          "data": {
            "text/plain": [
              "0"
            ]
          },
          "metadata": {},
          "execution_count": 9
        }
      ]
    },
    {
      "cell_type": "markdown",
      "source": [
        "# Feature Engineering"
      ],
      "metadata": {
        "id": "3-a2jCs57az_"
      }
    },
    {
      "cell_type": "code",
      "source": [
        "def data_enginerring(x_t):\n",
        "    x_t=x_t.copy()\n",
        "    x_t[\"date\"]=pd.to_datetime(x_t['date'])\n",
        "    x_t['year']=x_t[\"date\"].dt.year\n",
        "    x_t['month']=x_t[\"date\"].dt.month\n",
        "    x_t['week']=x_t[\"date\"].dt.week\n",
        "    x_t['day']=x_t[\"date\"].dt.day\n",
        "    return x_t\n",
        "    "
      ],
      "metadata": {
        "id": "sREKwf5u7HOR"
      },
      "execution_count": null,
      "outputs": []
    },
    {
      "cell_type": "code",
      "source": [
        "train_df=data_enginerring(train_df)"
      ],
      "metadata": {
        "colab": {
          "base_uri": "https://localhost:8080/"
        },
        "id": "wpo3EHRm7Jm6",
        "outputId": "7af6b10c-2252-4259-dd09-11b61e8b0d9a"
      },
      "execution_count": null,
      "outputs": [
        {
          "output_type": "stream",
          "name": "stderr",
          "text": [
            "/usr/local/lib/python3.7/dist-packages/ipykernel_launcher.py:6: FutureWarning: Series.dt.weekofyear and Series.dt.week have been deprecated.  Please use Series.dt.isocalendar().week instead.\n",
            "  \n"
          ]
        }
      ]
    },
    {
      "cell_type": "code",
      "source": [
        "X=train_df[['hour', 'year', 'month', 'week', 'day']]\n",
        "y=train_df['demand']"
      ],
      "metadata": {
        "id": "qx9WdnWcTzzu"
      },
      "execution_count": null,
      "outputs": []
    },
    {
      "cell_type": "code",
      "source": [
        "from sklearn.preprocessing import PolynomialFeatures\n",
        "poly=PolynomialFeatures(2)"
      ],
      "metadata": {
        "id": "uSgLurmTT3uY"
      },
      "execution_count": null,
      "outputs": []
    },
    {
      "cell_type": "code",
      "source": [
        "X=poly.fit_transform(X)"
      ],
      "metadata": {
        "id": "EkMEdmaiUDoC"
      },
      "execution_count": null,
      "outputs": []
    },
    {
      "cell_type": "markdown",
      "source": [
        "# train test data spliting"
      ],
      "metadata": {
        "id": "bIr2633A9ObR"
      }
    },
    {
      "cell_type": "code",
      "source": [
        "\n",
        "from sklearn.model_selection import train_test_split\n",
        "\n",
        "X_train, X_test, y_train, y_test = train_test_split(\n",
        "    X, y, test_size=0.20, random_state=42)\n"
      ],
      "metadata": {
        "id": "da-bRZsH7NWn"
      },
      "execution_count": null,
      "outputs": []
    },
    {
      "cell_type": "markdown",
      "source": [
        "# Ensamble Methods"
      ],
      "metadata": {
        "id": "U_vU-qaB70We"
      }
    },
    {
      "cell_type": "code",
      "source": [
        "\n",
        "ereg = VotingRegressor(estimators=[('gb', GradientBoostingRegressor()), ('knn', KNeighborsRegressor()),('randomfore',RandomForestRegressor(n_estimators=800,random_state=30,ccp_alpha=0.01)),('histogram',HistGradientBoostingRegressor())])\n",
        "\n",
        "ereg.fit(X_train, y_train)\n",
        "print(f'train RMSE: {mean_squared_error(y_train,ereg.predict(X_train),squared=False)}')\n",
        "print(f'test RMSE: {mean_squared_error(y_test,ereg.predict(X_test),squared=False)}')     # test base on unknown data"
      ],
      "metadata": {
        "colab": {
          "base_uri": "https://localhost:8080/"
        },
        "id": "BxS7MvNbPV75",
        "outputId": "77852375-6871-420b-d5dd-5a2843266f94"
      },
      "execution_count": null,
      "outputs": [
        {
          "output_type": "stream",
          "name": "stdout",
          "text": [
            "train RMSE: 25.394927931107592\n",
            "test RMSE: 32.22403972091486\n"
          ]
        }
      ]
    },
    {
      "cell_type": "code",
      "source": [
        "\n",
        "ereg.fit(X, y)    # use all dataset because... \n"
      ],
      "metadata": {
        "colab": {
          "base_uri": "https://localhost:8080/"
        },
        "id": "JZZqEysRPNT9",
        "outputId": "9a27c5d3-6fe9-4a36-8074-e424f5d53be9"
      },
      "execution_count": null,
      "outputs": [
        {
          "output_type": "execute_result",
          "data": {
            "text/plain": [
              "VotingRegressor(estimators=[('gb', GradientBoostingRegressor()),\n",
              "                            ('knn', KNeighborsRegressor()),\n",
              "                            ('randomfore',\n",
              "                             RandomForestRegressor(ccp_alpha=0.01,\n",
              "                                                   n_estimators=800,\n",
              "                                                   random_state=30)),\n",
              "                            ('histogram', HistGradientBoostingRegressor())])"
            ]
          },
          "metadata": {},
          "execution_count": 17
        }
      ]
    },
    {
      "cell_type": "markdown",
      "source": [
        "# test data convert into trainable type"
      ],
      "metadata": {
        "id": "OSpSw6pSDOFY"
      }
    },
    {
      "cell_type": "code",
      "source": [
        "new_test=data_enginerring(test_df)\n",
        "new_test=new_test.drop(axis=0,columns='date',)\n",
        "new_test=poly.fit_transform(new_test)"
      ],
      "metadata": {
        "colab": {
          "base_uri": "https://localhost:8080/"
        },
        "id": "OSRKJFGDBtcw",
        "outputId": "68f78ae8-4dbc-454f-e80a-0afb096469aa"
      },
      "execution_count": null,
      "outputs": [
        {
          "output_type": "stream",
          "name": "stderr",
          "text": [
            "/usr/local/lib/python3.7/dist-packages/ipykernel_launcher.py:6: FutureWarning: Series.dt.weekofyear and Series.dt.week have been deprecated.  Please use Series.dt.isocalendar().week instead.\n",
            "  \n"
          ]
        }
      ]
    },
    {
      "cell_type": "code",
      "source": [
        "new_test"
      ],
      "metadata": {
        "colab": {
          "base_uri": "https://localhost:8080/"
        },
        "id": "kvt-AplQVgij",
        "outputId": "c09feca2-e431-4f5b-9dfe-336148c2718f"
      },
      "execution_count": null,
      "outputs": [
        {
          "output_type": "execute_result",
          "data": {
            "text/plain": [
              "array([[1.000e+00, 0.000e+00, 2.021e+03, ..., 8.100e+01, 9.000e+00,\n",
              "        1.000e+00],\n",
              "       [1.000e+00, 1.000e+00, 2.021e+03, ..., 8.100e+01, 9.000e+00,\n",
              "        1.000e+00],\n",
              "       [1.000e+00, 2.000e+00, 2.021e+03, ..., 8.100e+01, 9.000e+00,\n",
              "        1.000e+00],\n",
              "       ...,\n",
              "       [1.000e+00, 2.100e+01, 2.022e+03, ..., 1.690e+02, 3.640e+02,\n",
              "        7.840e+02],\n",
              "       [1.000e+00, 2.200e+01, 2.022e+03, ..., 1.690e+02, 3.640e+02,\n",
              "        7.840e+02],\n",
              "       [1.000e+00, 2.300e+01, 2.022e+03, ..., 1.690e+02, 3.640e+02,\n",
              "        7.840e+02]])"
            ]
          },
          "metadata": {},
          "execution_count": 20
        }
      ]
    },
    {
      "cell_type": "code",
      "source": [
        "# pridictin data and add into dataframe\n",
        "\n",
        "test_df['demand']=ereg.predict(new_test)\n",
        "test_df['demand']=test_df['demand'].astype(np.int64,)\n",
        "test_df.head()"
      ],
      "metadata": {
        "id": "iN9_zxZSE7c4",
        "colab": {
          "base_uri": "https://localhost:8080/",
          "height": 206
        },
        "outputId": "2ac4d275-1794-4fce-9404-ac2c48ad8060"
      },
      "execution_count": null,
      "outputs": [
        {
          "output_type": "execute_result",
          "data": {
            "text/plain": [
              "         date  hour  demand\n",
              "0  2021-03-01     0      72\n",
              "1  2021-03-01     1      63\n",
              "2  2021-03-01     2      59\n",
              "3  2021-03-01     3      55\n",
              "4  2021-03-01     5      59"
            ],
            "text/html": [
              "\n",
              "  <div id=\"df-e4035322-dce8-4baf-b547-ad50ddad7962\">\n",
              "    <div class=\"colab-df-container\">\n",
              "      <div>\n",
              "<style scoped>\n",
              "    .dataframe tbody tr th:only-of-type {\n",
              "        vertical-align: middle;\n",
              "    }\n",
              "\n",
              "    .dataframe tbody tr th {\n",
              "        vertical-align: top;\n",
              "    }\n",
              "\n",
              "    .dataframe thead th {\n",
              "        text-align: right;\n",
              "    }\n",
              "</style>\n",
              "<table border=\"1\" class=\"dataframe\">\n",
              "  <thead>\n",
              "    <tr style=\"text-align: right;\">\n",
              "      <th></th>\n",
              "      <th>date</th>\n",
              "      <th>hour</th>\n",
              "      <th>demand</th>\n",
              "    </tr>\n",
              "  </thead>\n",
              "  <tbody>\n",
              "    <tr>\n",
              "      <th>0</th>\n",
              "      <td>2021-03-01</td>\n",
              "      <td>0</td>\n",
              "      <td>72</td>\n",
              "    </tr>\n",
              "    <tr>\n",
              "      <th>1</th>\n",
              "      <td>2021-03-01</td>\n",
              "      <td>1</td>\n",
              "      <td>63</td>\n",
              "    </tr>\n",
              "    <tr>\n",
              "      <th>2</th>\n",
              "      <td>2021-03-01</td>\n",
              "      <td>2</td>\n",
              "      <td>59</td>\n",
              "    </tr>\n",
              "    <tr>\n",
              "      <th>3</th>\n",
              "      <td>2021-03-01</td>\n",
              "      <td>3</td>\n",
              "      <td>55</td>\n",
              "    </tr>\n",
              "    <tr>\n",
              "      <th>4</th>\n",
              "      <td>2021-03-01</td>\n",
              "      <td>5</td>\n",
              "      <td>59</td>\n",
              "    </tr>\n",
              "  </tbody>\n",
              "</table>\n",
              "</div>\n",
              "      <button class=\"colab-df-convert\" onclick=\"convertToInteractive('df-e4035322-dce8-4baf-b547-ad50ddad7962')\"\n",
              "              title=\"Convert this dataframe to an interactive table.\"\n",
              "              style=\"display:none;\">\n",
              "        \n",
              "  <svg xmlns=\"http://www.w3.org/2000/svg\" height=\"24px\"viewBox=\"0 0 24 24\"\n",
              "       width=\"24px\">\n",
              "    <path d=\"M0 0h24v24H0V0z\" fill=\"none\"/>\n",
              "    <path d=\"M18.56 5.44l.94 2.06.94-2.06 2.06-.94-2.06-.94-.94-2.06-.94 2.06-2.06.94zm-11 1L8.5 8.5l.94-2.06 2.06-.94-2.06-.94L8.5 2.5l-.94 2.06-2.06.94zm10 10l.94 2.06.94-2.06 2.06-.94-2.06-.94-.94-2.06-.94 2.06-2.06.94z\"/><path d=\"M17.41 7.96l-1.37-1.37c-.4-.4-.92-.59-1.43-.59-.52 0-1.04.2-1.43.59L10.3 9.45l-7.72 7.72c-.78.78-.78 2.05 0 2.83L4 21.41c.39.39.9.59 1.41.59.51 0 1.02-.2 1.41-.59l7.78-7.78 2.81-2.81c.8-.78.8-2.07 0-2.86zM5.41 20L4 18.59l7.72-7.72 1.47 1.35L5.41 20z\"/>\n",
              "  </svg>\n",
              "      </button>\n",
              "      \n",
              "  <style>\n",
              "    .colab-df-container {\n",
              "      display:flex;\n",
              "      flex-wrap:wrap;\n",
              "      gap: 12px;\n",
              "    }\n",
              "\n",
              "    .colab-df-convert {\n",
              "      background-color: #E8F0FE;\n",
              "      border: none;\n",
              "      border-radius: 50%;\n",
              "      cursor: pointer;\n",
              "      display: none;\n",
              "      fill: #1967D2;\n",
              "      height: 32px;\n",
              "      padding: 0 0 0 0;\n",
              "      width: 32px;\n",
              "    }\n",
              "\n",
              "    .colab-df-convert:hover {\n",
              "      background-color: #E2EBFA;\n",
              "      box-shadow: 0px 1px 2px rgba(60, 64, 67, 0.3), 0px 1px 3px 1px rgba(60, 64, 67, 0.15);\n",
              "      fill: #174EA6;\n",
              "    }\n",
              "\n",
              "    [theme=dark] .colab-df-convert {\n",
              "      background-color: #3B4455;\n",
              "      fill: #D2E3FC;\n",
              "    }\n",
              "\n",
              "    [theme=dark] .colab-df-convert:hover {\n",
              "      background-color: #434B5C;\n",
              "      box-shadow: 0px 1px 3px 1px rgba(0, 0, 0, 0.15);\n",
              "      filter: drop-shadow(0px 1px 2px rgba(0, 0, 0, 0.3));\n",
              "      fill: #FFFFFF;\n",
              "    }\n",
              "  </style>\n",
              "\n",
              "      <script>\n",
              "        const buttonEl =\n",
              "          document.querySelector('#df-e4035322-dce8-4baf-b547-ad50ddad7962 button.colab-df-convert');\n",
              "        buttonEl.style.display =\n",
              "          google.colab.kernel.accessAllowed ? 'block' : 'none';\n",
              "\n",
              "        async function convertToInteractive(key) {\n",
              "          const element = document.querySelector('#df-e4035322-dce8-4baf-b547-ad50ddad7962');\n",
              "          const dataTable =\n",
              "            await google.colab.kernel.invokeFunction('convertToInteractive',\n",
              "                                                     [key], {});\n",
              "          if (!dataTable) return;\n",
              "\n",
              "          const docLinkHtml = 'Like what you see? Visit the ' +\n",
              "            '<a target=\"_blank\" href=https://colab.research.google.com/notebooks/data_table.ipynb>data table notebook</a>'\n",
              "            + ' to learn more about interactive tables.';\n",
              "          element.innerHTML = '';\n",
              "          dataTable['output_type'] = 'display_data';\n",
              "          await google.colab.output.renderOutput(dataTable, element);\n",
              "          const docLink = document.createElement('div');\n",
              "          docLink.innerHTML = docLinkHtml;\n",
              "          element.appendChild(docLink);\n",
              "        }\n",
              "      </script>\n",
              "    </div>\n",
              "  </div>\n",
              "  "
            ]
          },
          "metadata": {},
          "execution_count": 21
        }
      ]
    },
    {
      "cell_type": "code",
      "source": [
        "test_df.to_csv('submission_essamble2_stander_scale.csv',index=False)"
      ],
      "metadata": {
        "id": "tsT4P0TqE-vl"
      },
      "execution_count": null,
      "outputs": []
    },
    {
      "cell_type": "code",
      "source": [
        ""
      ],
      "metadata": {
        "id": "OZUxtX4IbhrZ"
      },
      "execution_count": null,
      "outputs": []
    }
  ]
}